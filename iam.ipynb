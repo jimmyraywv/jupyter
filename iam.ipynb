{
 "cells": [
  {
   "cell_type": "code",
   "execution_count": null,
   "metadata": {},
   "outputs": [],
   "source": [
    "!pip3 install --upgrade pip\n",
    "!pip3 install boto3\n",
    "!pip3 install pyyaml"
   ]
  },
  {
   "cell_type": "code",
   "execution_count": 1,
   "metadata": {},
   "outputs": [],
   "source": [
    "from functools import reduce\n",
    "import os\n",
    "import boto3\n",
    "import yaml\n",
    "from datetime import datetime, time, timedelta\n",
    "import json\n",
    "from pprint import pprint\n",
    "from pprint import PrettyPrinter\n",
    "from statistics import mean\n",
    "import sys"
   ]
  },
  {
   "cell_type": "code",
   "execution_count": null,
   "metadata": {
    "tags": []
   },
   "outputs": [],
   "source": [
    "print(sys.version_info)\n",
    "print(sys.version_info[:3])"
   ]
  },
  {
   "cell_type": "code",
   "execution_count": null,
   "metadata": {
    "tags": []
   },
   "outputs": [],
   "source": [
    "pp = PrettyPrinter() #indent=1)\n",
    "print(pp)\n",
    "section_delimiter = '\\n{}\\n'.format('--- '*20)\n",
    "print(section_delimiter)"
   ]
  },
  {
   "cell_type": "code",
   "execution_count": null,
   "metadata": {
    "tags": []
   },
   "outputs": [],
   "source": [
    "config = yaml.safe_load(open('config.yaml', 'r'))\n",
    "pp.pprint(config)\n",
    "aws_region = config['aws']['regions'][0]\n",
    "account = config['aws']['accounts'][0]['name']\n",
    "profile = config['aws']['accounts'][0]['profile']\n",
    "account_number = config['aws']['accounts'][0]['account-number']\n",
    "\n",
    "print(section_delimiter)\n",
    "\n",
    "print(('Selected Config: {} - {} - {} - {}'.format(str(account_number),account,profile,aws_region)))"
   ]
  },
  {
   "cell_type": "code",
   "execution_count": null,
   "metadata": {
    "tags": []
   },
   "outputs": [],
   "source": [
    "session = boto3.session.Session(profile_name=profile,region_name=aws_region)\n",
    "print(('Session: {} - {}'.format(session.profile_name,session.region_name)))"
   ]
  },
  {
   "cell_type": "code",
   "execution_count": null,
   "metadata": {
    "tags": []
   },
   "outputs": [],
   "source": [
    "iam = session.client('iam')\n",
    "print(iam)"
   ]
  },
  {
   "cell_type": "code",
   "execution_count": null,
   "metadata": {
    "tags": []
   },
   "outputs": [],
   "source": [
    "pols = iam.list_policies(OnlyAttached=True)\n",
    "#pp.pprint(pols)\n",
    "vers = dict()\n",
    "\n",
    "for pol in pols['Policies']:\n",
    "    vers[pol['PolicyName']] = pol['DefaultVersionId']\n",
    "\n",
    "pp.pprint(vers)\n",
    "\n",
    "for k,v in vers:\n",
    "    "
   ]
  },
  {
   "cell_type": "code",
   "execution_count": null,
   "metadata": {
    "tags": []
   },
   "outputs": [],
   "source": [
    "pol = iam.get_policy(PolicyArn='arn:aws:iam::aws:policy/AmazonElasticTranscoder_FullAccess')\n",
    "pp.pprint(pol['Policy']['Arn'])"
   ]
  },
  {
   "cell_type": "code",
   "execution_count": null,
   "metadata": {
    "tags": []
   },
   "outputs": [],
   "source": [
    "pol_ver = iam.get_policy_version(PolicyArn=pol['Policy']['Arn'],VersionId=pol['Policy']['DefaultVersionId'])\n",
    "pp.pprint(pol_ver)\n",
    "print(section_delimiter)\n",
    "pp.pprint(pol_ver['PolicyVersion']['Document'])"
   ]
  },
  {
   "cell_type": "code",
   "execution_count": null,
   "metadata": {},
   "outputs": [],
   "source": []
  }
 ],
 "metadata": {
  "kernelspec": {
   "display_name": "Python 3.7.3 64-bit",
   "name": "python_defaultSpec_1595961918098"
  },
  "language_info": {
   "codemirror_mode": {
    "name": "ipython",
    "version": 3
   },
   "file_extension": ".py",
   "mimetype": "text/x-python",
   "name": "python",
   "nbconvert_exporter": "python",
   "pygments_lexer": "ipython3",
   "version": 3
  },
  "orig_nbformat": 2
 },
 "nbformat": 4,
 "nbformat_minor": 2
}
