{
 "cells": [
  {
   "cell_type": "code",
   "execution_count": null,
   "metadata": {
    "collapsed": false,
    "deletable": true,
    "editable": true
   },
   "outputs": [],
   "source": [
    "!pip3 install --upgrade pip\n",
    "!pip3 install boto3\n",
    "!pip3 install pyyaml"
   ]
  },
  {
   "cell_type": "code",
   "execution_count": null,
   "metadata": {
    "collapsed": false,
    "deletable": true,
    "editable": true
   },
   "outputs": [],
   "source": [
    "from functools import reduce\n",
    "import os\n",
    "import boto3\n",
    "from botocore.client import Config\n",
    "import yaml\n",
    "from datetime import datetime, time, timedelta\n",
    "import json\n",
    "from pprint import pprint\n",
    "from pprint import PrettyPrinter\n",
    "from statistics import mean\n",
    "import sys"
   ]
  },
  {
   "cell_type": "code",
   "execution_count": null,
   "metadata": {
    "collapsed": false,
    "deletable": true,
    "editable": true
   },
   "outputs": [],
   "source": [
    "print(sys.version_info)\n",
    "print(sys.version_info[:3])"
   ]
  },
  {
   "cell_type": "code",
   "execution_count": null,
   "metadata": {
    "collapsed": false,
    "deletable": true,
    "editable": true
   },
   "outputs": [],
   "source": [
    "config = yaml.load(open('config.yaml', 'r'))\n",
    "#print(config)\n",
    "aws_region = config['aws']['regions'][0]\n",
    "account = config['aws']['accounts'][1]['name']\n",
    "profile = config['aws']['accounts'][1]['profile']\n",
    "account_number = config['aws']['accounts'][1]['account-number']\n",
    "\n",
    "print((\"%s - %s - %s - %s\" % (str(account_number),account,profile,aws_region)))"
   ]
  },
  {
   "cell_type": "code",
   "execution_count": null,
   "metadata": {
    "collapsed": false,
    "deletable": true,
    "editable": true
   },
   "outputs": [],
   "source": [
    "session = boto3.session.Session(profile_name=profile,region_name=aws_region)\n",
    "print(session)"
   ]
  },
  {
   "cell_type": "code",
   "execution_count": null,
   "metadata": {
    "collapsed": false,
    "deletable": true,
    "editable": true
   },
   "outputs": [],
   "source": [
    "asgClient = session.client('autoscaling')\n",
    "print(asgClient)"
   ]
  },
  {
   "cell_type": "code",
   "execution_count": null,
   "metadata": {
    "collapsed": false,
    "deletable": true,
    "editable": true
   },
   "outputs": [],
   "source": [
    "class Asg(object):\n",
    "    def __init__(self, name):\n",
    "        self.name = name\n",
    "        self.attributes = {}\n",
    "        \n",
    "    def __str__(self):\n",
    "        retrn = 'ASG: clusterName={0}'\n",
    "        return retrn"
   ]
  },
  {
   "cell_type": "code",
   "execution_count": null,
   "metadata": {
    "collapsed": false,
    "deletable": true,
    "editable": true
   },
   "outputs": [],
   "source": [
    "# Create a reusable Paginator\n",
    "paginator = asgClient.get_paginator('describe_auto_scaling_groups')\n",
    "#print(paginator)\n",
    "\n",
    "# Create a PageIterator from the Paginator\n",
    "page_iterator = paginator.paginate()\n",
    "\n",
    "asgs = []\n",
    "\n",
    "for page in page_iterator:    \n",
    "    print(page)\n"
   ]
  }
 ],
 "metadata": {
  "kernelspec": {
   "display_name": "Python 3",
   "language": "python",
   "name": "python3"
  },
  "language_info": {
   "codemirror_mode": {
    "name": "ipython",
    "version": 3
   },
   "file_extension": ".py",
   "mimetype": "text/x-python",
   "name": "python",
   "nbconvert_exporter": "python",
   "pygments_lexer": "ipython3",
   "version": "3.5.2"
  }
 },
 "nbformat": 4,
 "nbformat_minor": 2
}