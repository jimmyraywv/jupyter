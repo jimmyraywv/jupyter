{
 "cells": [
  {
   "cell_type": "code",
   "execution_count": 1,
   "metadata": {},
   "outputs": [],
   "source": [
    "!pip3 install --upgrade pip\n",
    "!pip3 install boto3\n",
    "!pip3 install pyyaml"
   ]
  },
  {
   "cell_type": "code",
   "execution_count": 2,
   "metadata": {},
   "outputs": [],
   "source": [
    "from functools import reduce\n",
    "import os\n",
    "import boto3\n",
    "import yaml\n",
    "from datetime import datetime, time, timedelta\n",
    "import json\n",
    "from pprint import pprint\n",
    "from pprint import PrettyPrinter\n",
    "from statistics import mean\n",
    "import sys"
   ]
  },
  {
   "cell_type": "code",
   "execution_count": null,
   "metadata": {
    "tags": []
   },
   "outputs": [],
   "source": [
    "print(sys.version_info)\n",
    "print(sys.version_info[:3])"
   ]
  },
  {
   "cell_type": "code",
   "execution_count": null,
   "metadata": {
    "tags": []
   },
   "outputs": [],
   "source": [
    "pp = PrettyPrinter() #indent=1)\n",
    "print(pp)\n",
    "section_delimiter = '\\n{}\\n'.format('--- '*20)"
   ]
  },
  {
   "cell_type": "code",
   "execution_count": null,
   "metadata": {
    "tags": []
   },
   "outputs": [],
   "source": [
    "config = yaml.safe_load(open('config.yaml', 'r'))\n",
    "pp.pprint(config)\n",
    "aws_region = config['aws']['regions'][0]\n",
    "account = config['aws']['accounts'][0]['name']\n",
    "profile = config['aws']['accounts'][0]['profile']\n",
    "account_number = config['aws']['accounts'][0]['account-number']\n",
    "\n",
    "print(section_delimiter)\n",
    "\n",
    "print(('Selected Config: {} - {} - {} - {}'.format(str(account_number),account,profile,aws_region)))"
   ]
  },
  {
   "cell_type": "code",
   "execution_count": null,
   "metadata": {
    "tags": []
   },
   "outputs": [],
   "source": [
    "session = boto3.session.Session(profile_name=profile,region_name=aws_region)\n",
    "print(('Session: {} - {}'.format(session.profile_name,session.region_name)))\n"
   ]
  },
  {
   "cell_type": "code",
   "execution_count": null,
   "metadata": {
    "tags": []
   },
   "outputs": [],
   "source": [
    "ec2Client = session.client('ec2')\n",
    "cwClient = session.client('cloudwatch',region_name=aws_region)\n",
    "print(ec2Client)\n",
    "print(cwClient)"
   ]
  },
  {
   "cell_type": "code",
   "execution_count": null,
   "metadata": {
    "tags": []
   },
   "outputs": [],
   "source": [
    "ec2s = ec2Client.describe_instances(\n",
    "    Filters=[\n",
    "        {\n",
    "            'Name': 'tag:owner',\n",
    "            'Values': ['jimmyray']\n",
    "        } \n",
    "    ]\n",
    ")\n",
    "\n",
    "pp.pprint(ec2s)"
   ]
  },
  {
   "cell_type": "code",
   "execution_count": 15,
   "metadata": {},
   "outputs": [],
   "source": [
    "def get_metric(instanceId, stat, metric):\n",
    "    data = cwClient.get_metric_statistics(\n",
    "        Period=900,\n",
    "        StartTime=(datetime.utcnow() - timedelta(days=14)),\n",
    "        EndTime=datetime.utcnow(),\n",
    "        MetricName=metric,\n",
    "        Namespace='AWS/EC2',\n",
    "        Statistics=[\n",
    "            stat\n",
    "        ],\n",
    "        Dimensions=[\n",
    "            {\n",
    "                'Name':'InstanceId',\n",
    "                'Value':instanceId\n",
    "            }\n",
    "        ]\n",
    "    )\n",
    "    \n",
    "    return data"
   ]
  },
  {
   "cell_type": "code",
   "execution_count": 16,
   "metadata": {},
   "outputs": [],
   "source": [
    "def get_images():\n",
    "    response = ec2Client.describe_images(\n",
    "        Owners=['self'],\n",
    "        Filters=[\n",
    "        {\n",
    "            'Name': 'owner-id',\n",
    "            'Values': [\n",
    "                str(account_number),\n",
    "            ]\n",
    "        },\n",
    "    ])['Images']\n",
    "    \n",
    "    data = {}\n",
    "    for image in response:\n",
    "        #print(image)\n",
    "        data[image['ImageId']] = image\n",
    "        \n",
    "    return data"
   ]
  },
  {
   "cell_type": "code",
   "execution_count": null,
   "metadata": {
    "tags": []
   },
   "outputs": [],
   "source": [
    "imageData = get_images()\n",
    "pp.pprint(imageData)\n"
   ]
  },
  {
   "cell_type": "code",
   "execution_count": null,
   "metadata": {
    "tags": []
   },
   "outputs": [],
   "source": [
    "stat='Average'\n",
    "metric='CPUUtilization'\n",
    "wantedTags=['name','owner']\n",
    "na='N/A'\n",
    "\n",
    "pp.pprint(ec2s['Reservations'])\n",
    "\n",
    "print(section_delimiter)\n",
    "\n",
    "print('# of EC2s: {}\\n'.format(str(len(ec2s['Reservations']))))\n",
    "\n",
    "for r in ec2s['Reservations']:\n",
    "    for i in r['Instances']:\n",
    "        tagStrings=[]\n",
    "        print('[EC2]')\n",
    "        print('Instanceid: {}'.format(i['InstanceId']))\n",
    "        print('InstanceType: {}'.format(i['InstanceType']))\n",
    "        print('Architecture: {}'.format(i['Architecture']))\n",
    "        print('State: {}'.format(i.get('State').get('Name')))\n",
    "        print()\n",
    "        print('ImageId: {}'.format(i['ImageId']))\n",
    "        \n",
    "        if i['ImageId'] in imageData:\n",
    "            print('ImageName: {}'.format(imageData[i['ImageId']].get('Name')))\n",
    "            print('ImageDescription: {}'.format(imageData[i['ImageId']].get('Description')))\n",
    "        \n",
    "            past = datetime.strptime(imageData[i['ImageId']].get('CreationDate'),'%Y-%m-%dT%H:%M:%S.000Z')\n",
    "            #print(past)\n",
    "            present = datetime.now()\n",
    "            #print(present)\n",
    "            delta = present-past\n",
    "            #print(delta.days)\n",
    "        \n",
    "            print('ImageAgeDays: {}'.format(str((present-past).days)))\n",
    "            \n",
    "        print('\\nVpcId: {}'.format(i.get('VpcId', na)))\n",
    "        print('SubnetId: {}\\n'.\n",
    "        format(i.get('SubnetId',na)))\n",
    "        \n",
    "        print('Tags:')\n",
    "        \n",
    "        for tag in i['Tags']:\n",
    "            if tag['Key'] in wantedTags:\n",
    "                tagStrings.append('Key: {}, Value: {}'.format(tag['Key'],tag['Value']))\n",
    "                \n",
    "        for tagString in sorted(tagStrings):\n",
    "            print(tagString)\n",
    "            \n",
    "        print()\n",
    "        \n",
    "        data = get_metric(i['InstanceId'], stat, metric)\n",
    "\n",
    "        stats=[]\n",
    "        for dp in data['Datapoints']:\n",
    "            stats.append(dp[stat])\n",
    "\n",
    "        print('Average CPU Utilization: {} %'.format(round(mean(stats),2)))            \n",
    "    \n",
    "    print('\\nEBS:')\n",
    "    \n",
    "    ec2 = session.resource('ec2')\n",
    "    \n",
    "    for bdm in i['BlockDeviceMappings']:\n",
    "        volume = ec2.Volume(bdm['Ebs']['VolumeId'])\n",
    "        print('Volume ID: {}'.format(volume.volume_id))\n",
    "        print('Volume Size: {}GiBs'.format(volume.size))\n",
    "        print('Volume Type: {}'.format(volume.volume_type))\n",
    "        print('Device Mapping: {} delete on termination = {}'.format(bdm['DeviceName'],bdm['Ebs']['DeleteOnTermination']))\n",
    "\n",
    "    \n",
    "    print(section_delimiter)\n",
    "                                "
   ]
  },
  {
   "cell_type": "code",
   "execution_count": null,
   "metadata": {
    "tags": []
   },
   "outputs": [],
   "source": [
    "sgs = ec2Client.describe_security_groups()\n",
    "pp.pprint(sgs)\n",
    "\n",
    "print(section_delimiter)\n",
    "\n",
    "for group in sgs['SecurityGroups']:\n",
    "    #pp.pprint(group)\n",
    "    print(\"{} - {}\".format(group['GroupId'],group['Description']))\n",
    "\n",
    "print(section_delimiter)\n",
    "\n",
    "sgs = ec2Client.describe_security_groups(GroupIds=['<SG_ID>'])\n",
    "\n",
    "pp.pprint(sgs)\n",
    "#print(sgs)"
   ]
  },
  {
   "cell_type": "code",
   "execution_count": null,
   "metadata": {},
   "outputs": [],
   "source": [
    "sqclient = boto3.client('service-quotas')\n",
    "response = sqclient.list_service_quotas(\n",
    "    ServiceCode='ec2',\n",
    "    # NextToken='string',\n",
    "    # MaxResults=123\n",
    ")\n",
    "\n",
    "pp.pprint(response)"
   ]
  },
  {
   "cell_type": "code",
   "execution_count": null,
   "metadata": {},
   "outputs": [],
   "source": []
  }
 ],
 "metadata": {
  "kernelspec": {
   "display_name": "Python 3.7.3 64-bit",
   "language": "python",
   "name": "python37364bit80ce02abcfc949eb9541d0f033624b64"
  },
  "language_info": {
   "codemirror_mode": {
    "name": "ipython",
    "version": 3
   },
   "file_extension": ".py",
   "mimetype": "text/x-python",
   "name": "python",
   "nbconvert_exporter": "python",
   "pygments_lexer": "ipython3",
   "version": "3.7.3"
  }
 },
 "nbformat": 4,
 "nbformat_minor": 2
}
