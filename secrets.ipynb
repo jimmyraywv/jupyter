{
 "cells": [
  {
   "cell_type": "code",
   "execution_count": null,
   "metadata": {},
   "outputs": [],
   "source": [
    "!pip3 install --upgrade pip\n",
    "!pip3 install boto3\n",
    "!pip3 install pyyaml"
   ]
  },
  {
   "cell_type": "code",
   "execution_count": 2,
   "metadata": {},
   "outputs": [],
   "source": [
    "from functools import reduce\n",
    "import os\n",
    "import boto3\n",
    "from botocore.client import Config\n",
    "import yaml\n",
    "from datetime import datetime, time, timedelta\n",
    "import json\n",
    "from pprint import pprint\n",
    "from pprint import PrettyPrinter\n",
    "from statistics import mean\n",
    "import sys"
   ]
  },
  {
   "cell_type": "code",
   "execution_count": null,
   "metadata": {},
   "outputs": [],
   "source": [
    "print(sys.version_info)\n",
    "print(sys.version_info[:3])"
   ]
  },
  {
   "cell_type": "code",
   "execution_count": null,
   "metadata": {},
   "outputs": [],
   "source": [
    "config = yaml.load(open('config.yaml', 'r'))\n",
    "#print(config)\n",
    "aws_region = config['aws']['regions'][0]\n",
    "account = config['aws']['accounts'][0]['name']\n",
    "profile = config['aws']['accounts'][0]['profile']\n",
    "account_number = config['aws']['accounts'][0]['account-number']\n",
    "\n",
    "print((\"%s - %s - %s - %s\" % (str(account_number),account,profile,aws_region)))"
   ]
  },
  {
   "cell_type": "code",
   "execution_count": null,
   "metadata": {},
   "outputs": [],
   "source": [
    "session = boto3.session.Session(profile_name=profile,region_name=aws_region)\n",
    "print(session)"
   ]
  },
  {
   "cell_type": "code",
   "execution_count": null,
   "metadata": {},
   "outputs": [],
   "source": [
    "client = session.client('secretsmanager')\n",
    "print(client)"
   ]
  },
  {
   "cell_type": "code",
   "execution_count": null,
   "metadata": {},
   "outputs": [],
   "source": [
    "# Secret stored as K/V pair\n",
    "name = \"my-secret\"\n",
    "resp = client.get_secret_value(SecretId=name)\n",
    "# print(resp)\n",
    "print(type(resp['SecretString']))\n",
    "print(resp['SecretString'])\n",
    "# Known Key\n",
    "print(json.loads(resp['SecretString']).get(\"my-secret-key\"))\n",
    "# Unknown key\n",
    "print(list(json.loads(resp['SecretString']).values())[0])"
   ]
  },
  {
   "cell_type": "code",
   "execution_count": null,
   "metadata": {},
   "outputs": [],
   "source": [
    "# Secret stored as single value, no key\n",
    "name = \"my-secret-also\"\n",
    "resp = client.get_secret_value(SecretId=name)\n",
    "# print(resp)\n",
    "print(type(resp['SecretString']))\n",
    "print(resp['SecretString'])"
   ]
  },
  {
   "cell_type": "code",
   "execution_count": null,
   "metadata": {},
   "outputs": [],
   "source": []
  }
 ],
 "metadata": {
  "kernelspec": {
   "display_name": "Python 3 (ipykernel)",
   "language": "python",
   "name": "python3"
  },
  "language_info": {
   "codemirror_mode": {
    "name": "ipython",
    "version": 3
   },
   "file_extension": ".py",
   "mimetype": "text/x-python",
   "name": "python",
   "nbconvert_exporter": "python",
   "pygments_lexer": "ipython3",
   "version": "3.8.2"
  }
 },
 "nbformat": 4,
 "nbformat_minor": 2
}
