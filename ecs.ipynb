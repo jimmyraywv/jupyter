{
 "cells": [
  {
   "cell_type": "code",
   "execution_count": null,
   "metadata": {},
   "outputs": [],
   "source": [
    "!pip3 install --upgrade pip\n",
    "!pip3 install boto3\n",
    "!pip3 install pyyaml"
   ]
  },
  {
   "cell_type": "code",
   "execution_count": 1,
   "metadata": {},
   "outputs": [],
   "source": [
    "from functools import reduce\n",
    "import os\n",
    "import boto3\n",
    "from botocore.client import Config\n",
    "import yaml\n",
    "from datetime import datetime, time, timedelta\n",
    "import json\n",
    "from pprint import pprint\n",
    "from pprint import PrettyPrinter\n",
    "from statistics import mean\n",
    "import sys"
   ]
  },
  {
   "cell_type": "code",
   "execution_count": null,
   "metadata": {},
   "outputs": [],
   "source": [
    "print(sys.version_info)\n",
    "print(sys.version_info[:3])"
   ]
  },
  {
   "cell_type": "code",
   "execution_count": null,
   "metadata": {},
   "outputs": [],
   "source": [
    "config = yaml.load(open('config.yaml', 'r'))\n",
    "#print(config)\n",
    "aws_region = config['aws']['regions'][0]\n",
    "account = config['aws']['accounts'][1]['name']\n",
    "profile = config['aws']['accounts'][1]['profile']\n",
    "account_number = config['aws']['accounts'][1]['account-number']\n",
    "\n",
    "print((\"%s - %s - %s - %s\" % (str(account_number),account,profile,aws_region)))"
   ]
  },
  {
   "cell_type": "code",
   "execution_count": null,
   "metadata": {},
   "outputs": [],
   "source": [
    "session = boto3.session.Session(profile_name=profile,region_name=aws_region)\n",
    "print(session)"
   ]
  },
  {
   "cell_type": "code",
   "execution_count": null,
   "metadata": {},
   "outputs": [],
   "source": [
    "ecsClient = session.client('ecs')\n",
    "print(ecsClient)"
   ]
  },
  {
   "cell_type": "code",
   "execution_count": null,
   "metadata": {},
   "outputs": [],
   "source": [
    "class EcsCluster(object):\n",
    "    def __init__(self, clusterName, clusterArn, status, registeredContainerInstancesCount, runningTasksCount, pendingTasksCount, activeServicesCount):\n",
    "        self.clusterName = clusterName\n",
    "        self.clusterArn = clusterArn\n",
    "        self.status = status\n",
    "        self.registeredContainerInstancesCount = registeredContainerInstancesCount\n",
    "        self.runningTasksCount = runningTasksCount\n",
    "        self.pendingTasksCount = pendingTasksCount\n",
    "        self.activeServicesCount = activeServicesCount\n",
    "        self.ec2s = []\n",
    "        \n",
    "    def set_ec2s(self, ec2s):\n",
    "        self.ec2s = ec2s\n",
    "        \n",
    "    def add_ec2s(self, ec2s):\n",
    "        self.ec2s.extend(ec2s)\n",
    "        \n",
    "    def __str__(self):\n",
    "        retrn = 'EcsCluster: clusterName={0}, clusterArn={1}, status={2}, registeredContainerInstancesCount={3}, runningTasksCount={4}, pendingTasksCount={5}, activeServicesCount={6}, ec2s={7}'.format(self.clusterName, self.clusterArn, self.status, str(self.registeredContainerInstancesCount), str(self.runningTasksCount), str(self.pendingTasksCount), str(self.activeServicesCount),tuple(self.ec2s))\n",
    "        return retrn"
   ]
  },
  {
   "cell_type": "code",
   "execution_count": null,
   "metadata": {},
   "outputs": [],
   "source": [
    "# Create a reusable Paginator\n",
    "paginator = ecsClient.get_paginator('list_clusters')\n",
    "#print(paginator)\n",
    "\n",
    "# Create a PageIterator from the Paginator\n",
    "page_iterator = paginator.paginate()\n",
    "\n",
    "#clusterArns = []\n",
    "clusters = []\n",
    "#clusterEc2s = {}\n",
    "\n",
    "for page in page_iterator:\n",
    "    #print(page['clusterArns'])\n",
    "    #clusterArns.extend(page['clusterArns'])\n",
    "    \n",
    "    response = ecsClient.describe_clusters(clusters=page['clusterArns'])\n",
    "    #print(response)\n",
    "    for cluster in response.get('clusters'):\n",
    "        clusters.append(EcsCluster(cluster.get('clusterName'),cluster.get('clusterArn'),cluster.get('status'),cluster.get('registeredContainerInstancesCount'),cluster.get('runningTasksCount'),cluster.get('pendingTasksCount'),cluster.get('activeServicesCount')))\n",
    "    #print(response.get(clusters))\n",
    "    #print(page)\n",
    "\n",
    "#print(len(clusterArns))\n",
    "#print(clusterArns)\n",
    "#print(len(clusters))\n"
   ]
  },
  {
   "cell_type": "code",
   "execution_count": null,
   "metadata": {},
   "outputs": [],
   "source": [
    "#Long Running\n",
    "for cluster in clusters:\n",
    "    response = ecsClient.list_container_instances(cluster=cluster.clusterName)\n",
    "    cluster.set_ec2s(response.get('containerInstanceArns'))\n",
    "    #clusterEc2s[cluster.get('clusterName')] = response.get('containerInstanceArns')\n",
    "    \n",
    "#print(clusterEc2s)\n"
   ]
  },
  {
   "cell_type": "code",
   "execution_count": null,
   "metadata": {},
   "outputs": [],
   "source": [
    "#pp = PrettyPrinter() #indent=1)\n",
    "for cluster in clusters:\n",
    "    #print(cluster)\n",
    "    if cluster.registeredContainerInstancesCount > 10:\n",
    "        pp.pprint(str(cluster))\n",
    "    "
   ]
  },
  {
   "cell_type": "code",
   "execution_count": null,
   "metadata": {
    "collapsed": true
   },
   "outputs": [],
   "source": []
  }
 ],
 "metadata": {
  "kernelspec": {
   "display_name": "Python 3",
   "language": "python",
   "name": "python3"
  },
  "language_info": {
   "codemirror_mode": {
    "name": "ipython",
    "version": 3
   },
   "file_extension": ".py",
   "mimetype": "text/x-python",
   "name": "python",
   "nbconvert_exporter": "python",
   "pygments_lexer": "ipython3",
   "version": "3.7.3"
  }
 },
 "nbformat": 4,
 "nbformat_minor": 2
}
